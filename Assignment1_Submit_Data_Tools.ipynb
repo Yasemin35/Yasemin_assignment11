{
 "cells": [
  {
   "cell_type": "markdown",
   "id": "f5558005",
   "metadata": {},
   "source": [
    "# Data Science Tools"
   ]
  },
  {
   "cell_type": "markdown",
   "id": "9bd52d63",
   "metadata": {},
   "source": [
    "In this notebook, Data Science Tools are detailed."
   ]
  },
  {
   "cell_type": "markdown",
   "id": "9db9108f",
   "metadata": {},
   "source": [
    "# Objectives:\n"
   ]
  },
  {
   "cell_type": "markdown",
   "id": "30d34149",
   "metadata": {},
   "source": [
    "List popular languages that Data Scientists use."
   ]
  },
  {
   "cell_type": "markdown",
   "id": "8b7088c5",
   "metadata": {},
   "source": [
    "List commonly used libraries used by Data Scientists."
   ]
  },
  {
   "cell_type": "markdown",
   "id": "5b6bc433",
   "metadata": {},
   "source": [
    "Comment on Data Science tools"
   ]
  },
  {
   "cell_type": "markdown",
   "id": "c30d3219",
   "metadata": {},
   "source": [
    "Some of the popular languages that Data Scientists use are:\n",
    "1. Python.\n",
    "2. R.\n",
    "3. SQL.\n",
    "4. Java.\n",
    "5. Julia.\n",
    "6. Scala.\n",
    "7. C/C++.\n",
    "8. JavaScript.\n",
    "9. Php.\n",
    "10. Go.\n",
    "11. Ruby.\n",
    "12. Visual Basic."
   ]
  },
  {
   "cell_type": "markdown",
   "id": "0e9246b3",
   "metadata": {},
   "source": [
    "Some of the commonly used libraries used by Data Scientists include:\n",
    "1. TensorFlow.\n",
    "2. NumPy.\n",
    "3. SciPy.\n",
    "4. Pandas.\n",
    "5. Matplotlib.\n",
    "6. Keras.\n",
    "7. SciKit-Learn.\n",
    "8. PyTorch.\n",
    "9. Scrapy.\n",
    "10. BeautifulSoup.\n",
    "11. LightGBM.\n",
    "12. ELI5.\n",
    "13. Theano.\n",
    "14. NuPIC.\n",
    "15. Ramp.\n",
    "16. Pipenv.\n",
    "17. Bob.\n",
    "18. PyBrain.\n",
    "19. Caffe2.\n",
    "20. Chainer."
   ]
  },
  {
   "cell_type": "markdown",
   "id": "ead9e879",
   "metadata": {},
   "source": [
    "| Data Science Tools|\n",
    "|----------------------|\n",
    "|Anaconda| \n",
    "|Jupyter Notebooks|\n",
    "|R Studio| \n",
    "|Spyder|\n",
    "|Zeppelin|"
   ]
  },
  {
   "cell_type": "markdown",
   "id": "d876a53d",
   "metadata": {},
   "source": [
    "# Below are a few examples of evaluating arithmetic expressions in Python"
   ]
  },
  {
   "cell_type": "code",
   "execution_count": 2,
   "id": "fd282954",
   "metadata": {},
   "outputs": [
    {
     "data": {
      "text/plain": [
       "5"
      ]
     },
     "execution_count": 2,
     "metadata": {},
     "output_type": "execute_result"
    }
   ],
   "source": [
    "# Arithmetic operations example\n",
    "code = compile(\"2 + 3\", \"<string>\", \"eval\")\n",
    "eval(code)"
   ]
  },
  {
   "cell_type": "code",
   "execution_count": 4,
   "id": "12833edd",
   "metadata": {},
   "outputs": [
    {
     "data": {
      "text/plain": [
       "24"
      ]
     },
     "execution_count": 4,
     "metadata": {},
     "output_type": "execute_result"
    }
   ],
   "source": [
    "result1 = compile(\"(5 + 7) * 2\", \"<string>\", \"eval\")\n",
    "eval(result1)"
   ]
  },
  {
   "cell_type": "code",
   "execution_count": 5,
   "id": "757727ab",
   "metadata": {},
   "outputs": [
    {
     "name": "stdout",
     "output_type": "stream",
     "text": [
      "0 days, 3.3333333333333335 hours, 0 mins. \n"
     ]
    }
   ],
   "source": [
    "days = 0\n",
    "hours = 0\n",
    "mins = 0\n",
    "\n",
    "time = 200\n",
    "#days = time / 1440\n",
    "leftover_minutes = time % 1440\n",
    "hours = leftover_minutes / 60\n",
    "#mins = time - (days*1440) - (hours*60)\n",
    "print(str(days) + \" days, \" + str(hours) + \" hours, \" + str(mins) +  \" mins. \")"
   ]
  },
  {
   "cell_type": "markdown",
   "id": "c627d834",
   "metadata": {},
   "source": [
    "# Objectives:\n",
    "* Add comments to codel cells.\n",
    "* Create markdown cells.\n",
    "* Add ordered and unordered lists to markdown cells.\n",
    "* Format content markdown cells with heading styles"
   ]
  },
  {
   "cell_type": "markdown",
   "id": "3fa98950",
   "metadata": {},
   "source": [
    "# Author's name:\n",
    "Yasemin"
   ]
  },
  {
   "cell_type": "code",
   "execution_count": null,
   "id": "4205eea0",
   "metadata": {},
   "outputs": [],
   "source": []
  }
 ],
 "metadata": {
  "kernelspec": {
   "display_name": "Python 3 (ipykernel)",
   "language": "python",
   "name": "python3"
  },
  "language_info": {
   "codemirror_mode": {
    "name": "ipython",
    "version": 3
   },
   "file_extension": ".py",
   "mimetype": "text/x-python",
   "name": "python",
   "nbconvert_exporter": "python",
   "pygments_lexer": "ipython3",
   "version": "3.9.13"
  }
 },
 "nbformat": 4,
 "nbformat_minor": 5
}
